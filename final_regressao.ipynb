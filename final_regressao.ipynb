{
  "cells": [
    {
      "cell_type": "markdown",
      "id": "tOpkOv-vSXwN",
      "metadata": {
        "id": "tOpkOv-vSXwN"
      },
      "source": [
        "# Treinamento Classificação de Idade Óssea (anos)\n",
        "Notebook adaptado para imagens binárias e classificação discreta em anos.\n",
        "- CSV contém colunas: `id`, `boneage`\n",
        "- Ignora coluna `male`\n",
        "- Relatórios finais: Classification Report + Matriz de Confusão"
      ]
    },
    {
      "cell_type": "code",
      "execution_count": null,
      "id": "gg1-jLUpSXwO",
      "metadata": {
        "id": "gg1-jLUpSXwO"
      },
      "outputs": [],
      "source": [
        "# =========================================================\n",
        "# Treinamento Regressão de Idade Óssea (meses)\n",
        "# =========================================================\n",
        "\n",
        "!pip install timm albumentations pandas scikit-learn matplotlib seaborn tqdm torch torchvision\n",
        "\n",
        "from google.colab import drive\n",
        "drive.mount('/content/drive')"
      ]
    },
    {
      "cell_type": "code",
      "execution_count": 2,
      "id": "6tIRpNPJTbcb",
      "metadata": {
        "colab": {
          "base_uri": "https://localhost:8080/"
        },
        "id": "6tIRpNPJTbcb",
        "outputId": "a6f6d031-8d7e-4e7e-966e-5490c362770f"
      },
      "outputs": [
        {
          "name": "stdout",
          "output_type": "stream",
          "text": [
            "Mounted at /content/drive\n"
          ]
        }
      ],
      "source": [
        "# =========================================================\n",
        "# Descompactar zip\n",
        "# =========================================================\n",
        "!unzip /content/b380x380.zip -d /content/saida"
      ]
    },
    {
      "cell_type": "code",
      "execution_count": 28,
      "id": "vsQ19ezSTUd-",
      "metadata": {
        "id": "vsQ19ezSTUd-"
      },
      "outputs": [],
      "source": [
        "# =========================================================\n",
        "# Imports\n",
        "# =========================================================\n",
        "import os\n",
        "import gc\n",
        "import numpy as np\n",
        "import pandas as pd\n",
        "import matplotlib.pyplot as plt\n",
        "import seaborn as sns\n",
        "import cv2\n",
        "\n",
        "from tqdm import tqdm\n",
        "from sklearn.metrics import mean_absolute_error, mean_squared_error, r2_score\n",
        "from sklearn.model_selection import train_test_split\n",
        "\n",
        "import torch\n",
        "from torch import nn, optim\n",
        "from torch.utils.data import Dataset, DataLoader\n",
        "from PIL import Image\n",
        "\n",
        "import timm\n",
        "import albumentations as A\n",
        "from albumentations.pytorch import ToTensorV2"
      ]
    },
    {
      "cell_type": "code",
      "execution_count": 29,
      "id": "Hnk_hMYvSXwP",
      "metadata": {
        "colab": {
          "base_uri": "https://localhost:8080/"
        },
        "id": "Hnk_hMYvSXwP",
        "outputId": "54756ab0-242f-467f-a846-70cb6c852d98"
      },
      "outputs": [
        {
          "name": "stdout",
          "output_type": "stream",
          "text": [
            "Usando device: cuda\n"
          ]
        }
      ],
      "source": [
        "# =========================================================\n",
        "# Device\n",
        "# =========================================================\n",
        "device = torch.device(\"cuda\" if torch.cuda.is_available() else \"cpu\")\n",
        "print(\"Usando device:\", device)"
      ]
    },
    {
      "cell_type": "code",
      "execution_count": 41,
      "id": "oA9I-KbwSXwP",
      "metadata": {
        "id": "oA9I-KbwSXwP"
      },
      "outputs": [],
      "source": [
        "# =========================================================\n",
        "# Dataset\n",
        "# =========================================================\n",
        "class BoneAgeDataset(Dataset):\n",
        "    def __init__(self, df, img_dir, transform=None):\n",
        "        self.df = df.reset_index(drop=True)\n",
        "        self.img_dir = img_dir\n",
        "        self.transform = transform\n",
        "\n",
        "    def __len__(self):\n",
        "        return len(self.df)\n",
        "\n",
        "    def __getitem__(self, idx):\n",
        "        row = self.df.iloc[idx]\n",
        "        img_path = os.path.join(self.img_dir, f\"{row['id']}.png\")\n",
        "        image = cv2.imread(img_path, cv2.IMREAD_GRAYSCALE)  # grayscale\n",
        "        if image is None:\n",
        "            raise FileNotFoundError(f\"Imagem não encontrada: {img_path}\")\n",
        "        #image = cv2.cvtColor(image, cv2.COLOR_GRAY2RGB)  # para compatibilidade com albumentations\n",
        "\n",
        "        if self.transform:\n",
        "            image = self.transform(image=image)[\"image\"]\n",
        "\n",
        "        target = row[\"boneage\"]  # em meses\n",
        "        return image, target"
      ]
    },
    {
      "cell_type": "code",
      "execution_count": null,
      "id": "XIm3GEsohBFh",
      "metadata": {
        "colab": {
          "base_uri": "https://localhost:8080/"
        },
        "id": "XIm3GEsohBFh",
        "outputId": "34a7f78f-dea5-4eca-b431-7254eba2c346"
      },
      "outputs": [
        {
          "name": "stdout",
          "output_type": "stream",
          "text": [
            "     id  boneage   male\n",
            "0  1377    180.0  False\n",
            "1  1378     12.0  False\n",
            "2  1379     94.0  False\n",
            "3  1381     82.0  False\n",
            "4  1388    126.0  False\n",
            "Idade mínima (meses): 4.0\n",
            "Idade máxima (meses): 216.0\n"
          ]
        }
      ],
      "source": [
        "# =========================================================\n",
        "# Carregar CSV (boneage em MESES)\n",
        "# =========================================================\n",
        "csv_path = \"/content/drive/MyDrive/TCC/male_training.csv\"\n",
        "img_dir = \"/content/saida/male_380x380\"\n",
        "\n",
        "df = pd.read_csv(csv_path)\n",
        "df['boneage'] = df['boneage'].astype(float)\n",
        "\n",
        "print(df.head())\n",
        "print(\"Idade mínima (meses):\", df['boneage'].min())\n",
        "print(\"Idade máxima (meses):\", df['boneage'].max())"
      ]
    },
    {
      "cell_type": "code",
      "execution_count": 44,
      "id": "4ioDyXQkhHB5",
      "metadata": {
        "id": "4ioDyXQkhHB5"
      },
      "outputs": [],
      "source": [
        "# =========================================================\n",
        "# Split estratificado por FAIXAS (anos)\n",
        "# =========================================================\n",
        "df['_strata_year'] = (df['boneage'] // 12).clip(0, 18).astype(int)\n",
        "\n",
        "train_df, val_df = train_test_split(\n",
        "    df,\n",
        "    test_size=0.2,\n",
        "    stratify=df['_strata_year'],\n",
        "    random_state=42\n",
        ")\n",
        "\n",
        "train_df = train_df.drop(columns=['_strata_year'])\n",
        "val_df   = val_df.drop(columns=['_strata_year'])"
      ]
    },
    {
      "cell_type": "code",
      "execution_count": 45,
      "id": "5kg7KOI0hSFv",
      "metadata": {
        "colab": {
          "base_uri": "https://localhost:8080/"
        },
        "id": "5kg7KOI0hSFv",
        "outputId": "b98584a6-3779-454f-b67a-728143f5f292"
      },
      "outputs": [
        {
          "name": "stderr",
          "output_type": "stream",
          "text": [
            "/tmp/ipython-input-2674952367.py:10: UserWarning: Argument(s) 'var_limit' are not valid for transform GaussNoise\n",
            "  A.GaussNoise(var_limit=(5.0, 20.0), p=0.3),\n"
          ]
        }
      ],
      "source": [
        "# =========================================================\n",
        "# Transforms\n",
        "# =========================================================\n",
        "train_tfms = A.Compose([\n",
        "    A.Resize(380, 380),\n",
        "    A.HorizontalFlip(p=0.5),\n",
        "    A.Affine(scale=(0.95, 1.05), translate_percent=(0.02, 0.02), rotate=(-10, 10), p=0.7),\n",
        "    A.RandomBrightnessContrast(p=0.5),\n",
        "    A.CLAHE(clip_limit=2.0, p=0.3),\n",
        "    A.GaussNoise(var_limit=(5.0, 20.0), p=0.3),\n",
        "    A.Normalize(mean=(0.5,), std=(0.5,)),\n",
        "    ToTensorV2()\n",
        "])\n",
        "val_tfms = A.Compose([\n",
        "    A.Resize(380, 380),\n",
        "    A.Normalize(mean=(0.5,), std=(0.5,)),\n",
        "    ToTensorV2()\n",
        "])\n",
        "\n",
        "train_ds = BoneAgeDataset(train_df, img_dir, transform=train_tfms)\n",
        "val_ds   = BoneAgeDataset(val_df,   img_dir, transform=val_tfms)\n",
        "\n",
        "train_loader = DataLoader(train_ds, batch_size=32, shuffle=True,  num_workers=2, pin_memory=True)\n",
        "val_loader   = DataLoader(val_ds,   batch_size=32, shuffle=False, num_workers=2, pin_memory=True)"
      ]
    },
    {
      "cell_type": "code",
      "execution_count": 51,
      "id": "e-U6MUeUhVLX",
      "metadata": {
        "id": "e-U6MUeUhVLX"
      },
      "outputs": [],
      "source": [
        "# =========================================================\n",
        "# Modelo EfficientNet-B4 (regressão)\n",
        "# =========================================================\n",
        "backbone = timm.create_model('efficientnet_b4', pretrained=True, num_classes=0, in_chans=1)\n",
        "\n",
        "for p in backbone.parameters():\n",
        "    p.requires_grad = False\n",
        "for p in backbone.blocks[-1].parameters():\n",
        "    p.requires_grad = True\n",
        "\n",
        "in_features = backbone.num_features\n",
        "reg_head = nn.Sequential(\n",
        "    nn.Dropout(0.5),\n",
        "    nn.Linear(in_features, 1)\n",
        ")\n",
        "model = nn.Sequential(backbone, reg_head).to(device)"
      ]
    },
    {
      "cell_type": "code",
      "execution_count": 52,
      "id": "O8byqgflSXwQ",
      "metadata": {
        "colab": {
          "base_uri": "https://localhost:8080/"
        },
        "id": "O8byqgflSXwQ",
        "outputId": "334a414d-55cd-423a-9e3c-d6cbc3c217ec"
      },
      "outputs": [
        {
          "name": "stderr",
          "output_type": "stream",
          "text": [
            "/tmp/ipython-input-3118302326.py:15: FutureWarning: `torch.cuda.amp.GradScaler(args...)` is deprecated. Please use `torch.amp.GradScaler('cuda', args...)` instead.\n",
            "  scaler = torch.cuda.amp.GradScaler()\n"
          ]
        }
      ],
      "source": [
        "# =========================================================\n",
        "# Loss / Otimizador / Scheduler\n",
        "# =========================================================\n",
        "criterion = nn.L1Loss()\n",
        "optimizer = optim.AdamW(model.parameters(), lr=1e-3, weight_decay=1e-4)\n",
        "\n",
        "EPOCHS = 50\n",
        "scheduler = torch.optim.lr_scheduler.OneCycleLR(\n",
        "    optimizer,\n",
        "    max_lr=1e-3,\n",
        "    steps_per_epoch=len(train_loader),\n",
        "    epochs=EPOCHS\n",
        ")\n",
        "\n",
        "scaler = torch.cuda.amp.GradScaler()"
      ]
    },
    {
      "cell_type": "code",
      "execution_count": 53,
      "id": "-gOyIG5UaWp_",
      "metadata": {
        "id": "-gOyIG5UaWp_"
      },
      "outputs": [],
      "source": [
        "# =========================================================\n",
        "# Funções de treino/val\n",
        "# =========================================================\n",
        "def train_one_epoch(model, loader, optimizer, criterion, device, epoch):\n",
        "    model.train()\n",
        "    total_loss, total_mae, total = 0, 0, 0\n",
        "    loop = tqdm(loader, total=len(loader), leave=False)\n",
        "    for imgs, targets in loop:\n",
        "        imgs = imgs.to(device)\n",
        "        targets = torch.as_tensor(targets, dtype=torch.float32, device=device).unsqueeze(1)\n",
        "\n",
        "        optimizer.zero_grad()\n",
        "        with torch.cuda.amp.autocast():\n",
        "            outputs = model(imgs)\n",
        "            loss = criterion(outputs, targets)\n",
        "\n",
        "        scaler.scale(loss).backward()\n",
        "        scaler.step(optimizer)\n",
        "        scaler.update()\n",
        "        scheduler.step()\n",
        "\n",
        "        total_loss += loss.item() * imgs.size(0)\n",
        "        total_mae  += torch.abs(outputs - targets).sum().item()\n",
        "        total      += imgs.size(0)\n",
        "\n",
        "        loop.set_description(f\"Epoch {epoch+1}/{EPOCHS}\")\n",
        "        loop.set_postfix(loss=loss.item(), mae=total_mae/total)\n",
        "    return total_loss/total, total_mae/total\n",
        "\n",
        "def validate(model, loader, criterion, device):\n",
        "    model.eval()\n",
        "    total_loss, total_mae, total = 0, 0, 0\n",
        "    with torch.no_grad():\n",
        "        for imgs, targets in loader:\n",
        "            imgs = imgs.to(device)\n",
        "            targets = torch.as_tensor(targets, dtype=torch.float32, device=device).unsqueeze(1)\n",
        "            with torch.cuda.amp.autocast():\n",
        "                outputs = model(imgs)\n",
        "                loss = criterion(outputs, targets)\n",
        "\n",
        "            total_loss += loss.item() * imgs.size(0)\n",
        "            total_mae  += torch.abs(outputs - targets).sum().item()\n",
        "            total      += imgs.size(0)\n",
        "    return total_loss/total, total_mae/total\n",
        "\n"
      ]
    },
    {
      "cell_type": "code",
      "execution_count": 54,
      "id": "1UoyIZm02QTI",
      "metadata": {
        "colab": {
          "base_uri": "https://localhost:8080/"
        },
        "id": "1UoyIZm02QTI",
        "outputId": "fedc32b0-3691-4afd-b6a4-cd22f12e3db4"
      },
      "outputs": [
        {
          "name": "stderr",
          "output_type": "stream",
          "text": [
            "\r  0%|          | 0/145 [00:00<?, ?it/s]/tmp/ipython-input-3695160076.py:13: FutureWarning: `torch.cuda.amp.autocast(args...)` is deprecated. Please use `torch.amp.autocast('cuda', args...)` instead.\n",
            "  with torch.cuda.amp.autocast():\n",
            "/usr/local/lib/python3.12/dist-packages/torch/optim/lr_scheduler.py:192: UserWarning: Detected call of `lr_scheduler.step()` before `optimizer.step()`. In PyTorch 1.1.0 and later, you should call them in the opposite order: `optimizer.step()` before `lr_scheduler.step()`.  Failure to do this will result in PyTorch skipping the first value of the learning rate schedule. See more details at https://pytorch.org/docs/stable/optim.html#how-to-adjust-learning-rate\n",
            "  warnings.warn(\n",
            "/tmp/ipython-input-3695160076.py:37: FutureWarning: `torch.cuda.amp.autocast(args...)` is deprecated. Please use `torch.amp.autocast('cuda', args...)` instead.\n",
            "  with torch.cuda.amp.autocast():\n"
          ]
        },
        {
          "name": "stdout",
          "output_type": "stream",
          "text": [
            "\n",
            "Epoch 1/50 | Train Loss: 117.2238, MAE: 117.22 | Val Loss: 115.1505, MAE: 115.15\n",
            ">> Modelo salvo!\n"
          ]
        },
        {
          "name": "stderr",
          "output_type": "stream",
          "text": []
        },
        {
          "name": "stdout",
          "output_type": "stream",
          "text": [
            "\n",
            "Epoch 2/50 | Train Loss: 97.7098, MAE: 97.71 | Val Loss: 49.9051, MAE: 49.91\n",
            ">> Modelo salvo!\n"
          ]
        },
        {
          "name": "stderr",
          "output_type": "stream",
          "text": []
        },
        {
          "name": "stdout",
          "output_type": "stream",
          "text": [
            "\n",
            "Epoch 3/50 | Train Loss: 37.1486, MAE: 37.15 | Val Loss: 16.0710, MAE: 16.07\n",
            ">> Modelo salvo!\n"
          ]
        },
        {
          "name": "stderr",
          "output_type": "stream",
          "text": []
        },
        {
          "name": "stdout",
          "output_type": "stream",
          "text": [
            "\n",
            "Epoch 4/50 | Train Loss: 20.9205, MAE: 20.92 | Val Loss: 13.9852, MAE: 13.99\n",
            ">> Modelo salvo!\n"
          ]
        },
        {
          "name": "stderr",
          "output_type": "stream",
          "text": []
        },
        {
          "name": "stdout",
          "output_type": "stream",
          "text": [
            "\n",
            "Epoch 5/50 | Train Loss: 19.6967, MAE: 19.70 | Val Loss: 12.8558, MAE: 12.86\n",
            ">> Modelo salvo!\n"
          ]
        },
        {
          "name": "stderr",
          "output_type": "stream",
          "text": []
        },
        {
          "name": "stdout",
          "output_type": "stream",
          "text": [
            "\n",
            "Epoch 6/50 | Train Loss: 18.3744, MAE: 18.37 | Val Loss: 12.4027, MAE: 12.40\n",
            ">> Modelo salvo!\n"
          ]
        },
        {
          "name": "stderr",
          "output_type": "stream",
          "text": []
        },
        {
          "name": "stdout",
          "output_type": "stream",
          "text": [
            "\n",
            "Epoch 7/50 | Train Loss: 17.7347, MAE: 17.73 | Val Loss: 11.7283, MAE: 11.73\n",
            ">> Modelo salvo!\n"
          ]
        },
        {
          "name": "stderr",
          "output_type": "stream",
          "text": []
        },
        {
          "name": "stdout",
          "output_type": "stream",
          "text": [
            "\n",
            "Epoch 8/50 | Train Loss: 17.9199, MAE: 17.92 | Val Loss: 11.9646, MAE: 11.96\n",
            ">> Val MAE não melhorou (1/10)\n"
          ]
        },
        {
          "name": "stderr",
          "output_type": "stream",
          "text": []
        },
        {
          "name": "stdout",
          "output_type": "stream",
          "text": [
            "\n",
            "Epoch 9/50 | Train Loss: 17.3675, MAE: 17.37 | Val Loss: 11.9029, MAE: 11.90\n",
            ">> Val MAE não melhorou (2/10)\n"
          ]
        },
        {
          "name": "stderr",
          "output_type": "stream",
          "text": []
        },
        {
          "name": "stdout",
          "output_type": "stream",
          "text": [
            "\n",
            "Epoch 10/50 | Train Loss: 17.2229, MAE: 17.22 | Val Loss: 12.2601, MAE: 12.26\n",
            ">> Val MAE não melhorou (3/10)\n"
          ]
        },
        {
          "name": "stderr",
          "output_type": "stream",
          "text": []
        },
        {
          "name": "stdout",
          "output_type": "stream",
          "text": [
            "\n",
            "Epoch 11/50 | Train Loss: 16.8206, MAE: 16.82 | Val Loss: 13.3493, MAE: 13.35\n",
            ">> Val MAE não melhorou (4/10)\n"
          ]
        },
        {
          "name": "stderr",
          "output_type": "stream",
          "text": []
        },
        {
          "name": "stdout",
          "output_type": "stream",
          "text": [
            "\n",
            "Epoch 12/50 | Train Loss: 16.8424, MAE: 16.84 | Val Loss: 11.1706, MAE: 11.17\n",
            ">> Modelo salvo!\n"
          ]
        },
        {
          "name": "stderr",
          "output_type": "stream",
          "text": []
        },
        {
          "name": "stdout",
          "output_type": "stream",
          "text": [
            "\n",
            "Epoch 13/50 | Train Loss: 16.7657, MAE: 16.77 | Val Loss: 16.6527, MAE: 16.65\n",
            ">> Val MAE não melhorou (1/10)\n"
          ]
        },
        {
          "name": "stderr",
          "output_type": "stream",
          "text": []
        },
        {
          "name": "stdout",
          "output_type": "stream",
          "text": [
            "\n",
            "Epoch 14/50 | Train Loss: 16.3226, MAE: 16.32 | Val Loss: 12.9497, MAE: 12.95\n",
            ">> Val MAE não melhorou (2/10)\n"
          ]
        },
        {
          "name": "stderr",
          "output_type": "stream",
          "text": []
        },
        {
          "name": "stdout",
          "output_type": "stream",
          "text": [
            "\n",
            "Epoch 15/50 | Train Loss: 16.1236, MAE: 16.12 | Val Loss: 11.3720, MAE: 11.37\n",
            ">> Val MAE não melhorou (3/10)\n"
          ]
        },
        {
          "name": "stderr",
          "output_type": "stream",
          "text": []
        },
        {
          "name": "stdout",
          "output_type": "stream",
          "text": [
            "\n",
            "Epoch 16/50 | Train Loss: 15.9251, MAE: 15.93 | Val Loss: 11.2074, MAE: 11.21\n",
            ">> Val MAE não melhorou (4/10)\n",
            ">> Todas as camadas liberadas para fine-tuning\n"
          ]
        },
        {
          "name": "stderr",
          "output_type": "stream",
          "text": []
        },
        {
          "name": "stdout",
          "output_type": "stream",
          "text": [
            "\n",
            "Epoch 17/50 | Train Loss: 16.3239, MAE: 16.32 | Val Loss: 9.2502, MAE: 9.25\n",
            ">> Modelo salvo!\n"
          ]
        },
        {
          "name": "stderr",
          "output_type": "stream",
          "text": []
        },
        {
          "name": "stdout",
          "output_type": "stream",
          "text": [
            "\n",
            "Epoch 18/50 | Train Loss: 14.6778, MAE: 14.68 | Val Loss: 9.6484, MAE: 9.65\n",
            ">> Val MAE não melhorou (1/10)\n"
          ]
        },
        {
          "name": "stderr",
          "output_type": "stream",
          "text": []
        },
        {
          "name": "stdout",
          "output_type": "stream",
          "text": [
            "\n",
            "Epoch 19/50 | Train Loss: 13.0845, MAE: 13.08 | Val Loss: 12.2285, MAE: 12.23\n",
            ">> Val MAE não melhorou (2/10)\n"
          ]
        },
        {
          "name": "stderr",
          "output_type": "stream",
          "text": []
        },
        {
          "name": "stdout",
          "output_type": "stream",
          "text": [
            "\n",
            "Epoch 20/50 | Train Loss: 12.5961, MAE: 12.60 | Val Loss: 11.7385, MAE: 11.74\n",
            ">> Val MAE não melhorou (3/10)\n"
          ]
        },
        {
          "name": "stderr",
          "output_type": "stream",
          "text": []
        },
        {
          "name": "stdout",
          "output_type": "stream",
          "text": [
            "\n",
            "Epoch 21/50 | Train Loss: 12.1117, MAE: 12.11 | Val Loss: 9.5263, MAE: 9.53\n",
            ">> Val MAE não melhorou (4/10)\n"
          ]
        },
        {
          "name": "stderr",
          "output_type": "stream",
          "text": []
        },
        {
          "name": "stdout",
          "output_type": "stream",
          "text": [
            "\n",
            "Epoch 22/50 | Train Loss: 11.4184, MAE: 11.42 | Val Loss: 8.8853, MAE: 8.89\n",
            ">> Modelo salvo!\n"
          ]
        },
        {
          "name": "stderr",
          "output_type": "stream",
          "text": []
        },
        {
          "name": "stdout",
          "output_type": "stream",
          "text": [
            "\n",
            "Epoch 23/50 | Train Loss: 11.1526, MAE: 11.15 | Val Loss: 8.1515, MAE: 8.15\n",
            ">> Modelo salvo!\n"
          ]
        },
        {
          "name": "stderr",
          "output_type": "stream",
          "text": []
        },
        {
          "name": "stdout",
          "output_type": "stream",
          "text": [
            "\n",
            "Epoch 24/50 | Train Loss: 10.7670, MAE: 10.77 | Val Loss: 8.5067, MAE: 8.51\n",
            ">> Val MAE não melhorou (1/10)\n"
          ]
        },
        {
          "name": "stderr",
          "output_type": "stream",
          "text": []
        },
        {
          "name": "stdout",
          "output_type": "stream",
          "text": [
            "\n",
            "Epoch 25/50 | Train Loss: 10.8726, MAE: 10.87 | Val Loss: 8.0432, MAE: 8.04\n",
            ">> Modelo salvo!\n"
          ]
        },
        {
          "name": "stderr",
          "output_type": "stream",
          "text": []
        },
        {
          "name": "stdout",
          "output_type": "stream",
          "text": [
            "\n",
            "Epoch 26/50 | Train Loss: 10.1816, MAE: 10.18 | Val Loss: 8.6999, MAE: 8.70\n",
            ">> Val MAE não melhorou (1/10)\n"
          ]
        },
        {
          "name": "stderr",
          "output_type": "stream",
          "text": []
        },
        {
          "name": "stdout",
          "output_type": "stream",
          "text": [
            "\n",
            "Epoch 27/50 | Train Loss: 9.8901, MAE: 9.89 | Val Loss: 8.6374, MAE: 8.64\n",
            ">> Val MAE não melhorou (2/10)\n"
          ]
        },
        {
          "name": "stderr",
          "output_type": "stream",
          "text": []
        },
        {
          "name": "stdout",
          "output_type": "stream",
          "text": [
            "\n",
            "Epoch 28/50 | Train Loss: 10.1676, MAE: 10.17 | Val Loss: 8.7492, MAE: 8.75\n",
            ">> Val MAE não melhorou (3/10)\n"
          ]
        },
        {
          "name": "stderr",
          "output_type": "stream",
          "text": []
        },
        {
          "name": "stdout",
          "output_type": "stream",
          "text": [
            "\n",
            "Epoch 29/50 | Train Loss: 9.6837, MAE: 9.68 | Val Loss: 8.6725, MAE: 8.67\n",
            ">> Val MAE não melhorou (4/10)\n"
          ]
        },
        {
          "name": "stderr",
          "output_type": "stream",
          "text": []
        },
        {
          "name": "stdout",
          "output_type": "stream",
          "text": [
            "\n",
            "Epoch 30/50 | Train Loss: 9.6096, MAE: 9.61 | Val Loss: 7.7765, MAE: 7.78\n",
            ">> Modelo salvo!\n"
          ]
        },
        {
          "name": "stderr",
          "output_type": "stream",
          "text": []
        },
        {
          "name": "stdout",
          "output_type": "stream",
          "text": [
            "\n",
            "Epoch 31/50 | Train Loss: 9.2458, MAE: 9.25 | Val Loss: 7.8936, MAE: 7.89\n",
            ">> Val MAE não melhorou (1/10)\n"
          ]
        },
        {
          "name": "stderr",
          "output_type": "stream",
          "text": []
        },
        {
          "name": "stdout",
          "output_type": "stream",
          "text": [
            "\n",
            "Epoch 32/50 | Train Loss: 9.2282, MAE: 9.23 | Val Loss: 8.0255, MAE: 8.03\n",
            ">> Val MAE não melhorou (2/10)\n"
          ]
        },
        {
          "name": "stderr",
          "output_type": "stream",
          "text": []
        },
        {
          "name": "stdout",
          "output_type": "stream",
          "text": [
            "\n",
            "Epoch 33/50 | Train Loss: 8.5280, MAE: 8.53 | Val Loss: 7.7359, MAE: 7.74\n",
            ">> Modelo salvo!\n"
          ]
        },
        {
          "name": "stderr",
          "output_type": "stream",
          "text": []
        },
        {
          "name": "stdout",
          "output_type": "stream",
          "text": [
            "\n",
            "Epoch 34/50 | Train Loss: 8.8281, MAE: 8.83 | Val Loss: 7.7138, MAE: 7.71\n",
            ">> Modelo salvo!\n"
          ]
        },
        {
          "name": "stderr",
          "output_type": "stream",
          "text": []
        },
        {
          "name": "stdout",
          "output_type": "stream",
          "text": [
            "\n",
            "Epoch 35/50 | Train Loss: 8.3274, MAE: 8.33 | Val Loss: 7.7644, MAE: 7.76\n",
            ">> Val MAE não melhorou (1/10)\n"
          ]
        },
        {
          "name": "stderr",
          "output_type": "stream",
          "text": []
        },
        {
          "name": "stdout",
          "output_type": "stream",
          "text": [
            "\n",
            "Epoch 36/50 | Train Loss: 8.1510, MAE: 8.15 | Val Loss: 7.5949, MAE: 7.59\n",
            ">> Modelo salvo!\n"
          ]
        },
        {
          "name": "stderr",
          "output_type": "stream",
          "text": []
        },
        {
          "name": "stdout",
          "output_type": "stream",
          "text": [
            "\n",
            "Epoch 37/50 | Train Loss: 8.1570, MAE: 8.16 | Val Loss: 8.1326, MAE: 8.13\n",
            ">> Val MAE não melhorou (1/10)\n"
          ]
        },
        {
          "name": "stderr",
          "output_type": "stream",
          "text": []
        },
        {
          "name": "stdout",
          "output_type": "stream",
          "text": [
            "\n",
            "Epoch 38/50 | Train Loss: 7.8850, MAE: 7.89 | Val Loss: 7.7272, MAE: 7.73\n",
            ">> Val MAE não melhorou (2/10)\n"
          ]
        },
        {
          "name": "stderr",
          "output_type": "stream",
          "text": []
        },
        {
          "name": "stdout",
          "output_type": "stream",
          "text": [
            "\n",
            "Epoch 39/50 | Train Loss: 7.7274, MAE: 7.73 | Val Loss: 7.7511, MAE: 7.75\n",
            ">> Val MAE não melhorou (3/10)\n"
          ]
        },
        {
          "name": "stderr",
          "output_type": "stream",
          "text": []
        },
        {
          "name": "stdout",
          "output_type": "stream",
          "text": [
            "\n",
            "Epoch 40/50 | Train Loss: 7.4069, MAE: 7.41 | Val Loss: 7.5980, MAE: 7.60\n",
            ">> Val MAE não melhorou (4/10)\n"
          ]
        },
        {
          "name": "stderr",
          "output_type": "stream",
          "text": []
        },
        {
          "name": "stdout",
          "output_type": "stream",
          "text": [
            "\n",
            "Epoch 41/50 | Train Loss: 7.2344, MAE: 7.23 | Val Loss: 7.7273, MAE: 7.73\n",
            ">> Val MAE não melhorou (5/10)\n"
          ]
        },
        {
          "name": "stderr",
          "output_type": "stream",
          "text": []
        },
        {
          "name": "stdout",
          "output_type": "stream",
          "text": [
            "\n",
            "Epoch 42/50 | Train Loss: 7.1217, MAE: 7.12 | Val Loss: 7.7266, MAE: 7.73\n",
            ">> Val MAE não melhorou (6/10)\n"
          ]
        },
        {
          "name": "stderr",
          "output_type": "stream",
          "text": []
        },
        {
          "name": "stdout",
          "output_type": "stream",
          "text": [
            "\n",
            "Epoch 43/50 | Train Loss: 7.2239, MAE: 7.22 | Val Loss: 7.6016, MAE: 7.60\n",
            ">> Val MAE não melhorou (7/10)\n"
          ]
        },
        {
          "name": "stderr",
          "output_type": "stream",
          "text": []
        },
        {
          "name": "stdout",
          "output_type": "stream",
          "text": [
            "\n",
            "Epoch 44/50 | Train Loss: 6.8984, MAE: 6.90 | Val Loss: 7.8747, MAE: 7.87\n",
            ">> Val MAE não melhorou (8/10)\n"
          ]
        },
        {
          "name": "stderr",
          "output_type": "stream",
          "text": []
        },
        {
          "name": "stdout",
          "output_type": "stream",
          "text": [
            "\n",
            "Epoch 45/50 | Train Loss: 6.9535, MAE: 6.95 | Val Loss: 7.6284, MAE: 7.63\n",
            ">> Val MAE não melhorou (9/10)\n"
          ]
        },
        {
          "name": "stderr",
          "output_type": "stream",
          "text": []
        },
        {
          "name": "stdout",
          "output_type": "stream",
          "text": [
            "\n",
            "Epoch 46/50 | Train Loss: 6.7701, MAE: 6.77 | Val Loss: 7.6795, MAE: 7.68\n",
            ">> Val MAE não melhorou (10/10)\n",
            ">> Early stopping: MAE não melhora há 10 épocas.\n"
          ]
        }
      ],
      "source": [
        "# =========================================================\n",
        "# Treinamento\n",
        "# =========================================================\n",
        "best_val_mae = float(\"inf\")\n",
        "patience = 10\n",
        "epochs_no_improve = 0\n",
        "\n",
        "for epoch in range(EPOCHS):\n",
        "    train_loss, train_mae = train_one_epoch(model, train_loader, optimizer, criterion, device, epoch)\n",
        "    val_loss,   val_mae   = validate(model, val_loader, criterion, device)\n",
        "\n",
        "    print(f\"\\nEpoch {epoch+1}/{EPOCHS} | \"\n",
        "          f\"Train Loss: {train_loss:.4f}, MAE: {train_mae:.2f} | \"\n",
        "          f\"Val Loss: {val_loss:.4f}, MAE: {val_mae:.2f}\")\n",
        "\n",
        "    if val_mae < best_val_mae:\n",
        "        best_val_mae = val_mae\n",
        "        torch.save(model.state_dict(), \"/content/best_model_regression.pth\")\n",
        "        print(\">> Modelo salvo!\")\n",
        "        epochs_no_improve = 0\n",
        "    else:\n",
        "        epochs_no_improve += 1\n",
        "        print(f\">> Val MAE não melhorou ({epochs_no_improve}/{patience})\")\n",
        "\n",
        "    if epochs_no_improve >= patience:\n",
        "        print(\">> Early stopping: MAE não melhora há\", patience, \"épocas.\")\n",
        "        break\n",
        "\n",
        "    if epoch == 15:\n",
        "        for p in backbone.parameters():\n",
        "            p.requires_grad = True\n",
        "        print(\">> Todas as camadas liberadas para fine-tuning\")\n"
      ]
    },
    {
      "cell_type": "code",
      "execution_count": null,
      "id": "cRzbIeJEK8Do",
      "metadata": {
        "id": "cRzbIeJEK8Do"
      },
      "outputs": [],
      "source": [
        "# =========================================================\n",
        "# Dataset de Teste\n",
        "# =========================================================\n",
        "test_csv = \"/content/test_set.csv\"     # CSV do conjunto de teste\n",
        "test_dir = \"/content/test_images\"      # Pasta com as imagens\n",
        "\n",
        "test_df = pd.read_csv(test_csv)\n",
        "test_ds = BoneAgeDataset(test_df, test_dir, transform=val_tfms)\n",
        "test_loader = DataLoader(test_ds, batch_size=64, shuffle=False, num_workers=2, pin_memory=True)\n"
      ]
    },
    {
      "cell_type": "code",
      "execution_count": 55,
      "id": "mKEn24lISXwR",
      "metadata": {
        "colab": {
          "base_uri": "https://localhost:8080/",
          "height": 633
        },
        "id": "mKEn24lISXwR",
        "outputId": "1b4a99cb-7d2a-47fd-95d9-092524a65b87"
      },
      "outputs": [
        {
          "name": "stdout",
          "output_type": "stream",
          "text": [
            "== Regression Report ==\n",
            "MAE  (meses): 7.59  (~0.63 anos)\n",
            "RMSE (meses): 10.01  (~0.83 anos)\n",
            "R²           : 0.930\n"
          ]
        },
        {
          "data": {
            "image/png": "[encoded data removed]",
            "text/plain": [
              "<Figure size 800x600 with 1 Axes>"
            ]
          },
          "metadata": {},
          "output_type": "display_data"
        }
      ],
      "source": [
        "# =========================================================\n",
        "# Avaliação Final\n",
        "# =========================================================\n",
        "model.load_state_dict(torch.load(\"/content/best_model_regression.pth\"))\n",
        "model.eval()\n",
        "\n",
        "all_labels, all_preds = [], []\n",
        "with torch.no_grad():\n",
        "    for imgs, labels in val_loader:\n",
        "        imgs = imgs.to(device)\n",
        "        labels = labels.numpy().astype(float)\n",
        "        outputs = model(imgs).cpu().numpy().flatten()\n",
        "        all_labels.extend(labels)\n",
        "        all_preds.extend(outputs)\n",
        "\n",
        "all_labels = np.array(all_labels)\n",
        "all_preds  = np.array(all_preds)\n",
        "\n",
        "mae_meses = mean_absolute_error(all_labels, all_preds)\n",
        "rmse_meses = np.sqrt(mean_squared_error(all_labels, all_preds))\n",
        "r2 = r2_score(all_labels, all_preds)\n",
        "\n",
        "print(\"== Regression Report ==\")\n",
        "print(f\"MAE  (meses): {mae_meses:.2f}  (~{mae_meses/12:.2f} anos)\")\n",
        "print(f\"RMSE (meses): {rmse_meses:.2f}  (~{rmse_meses/12:.2f} anos)\")\n",
        "print(f\"R²           : {r2:.3f}\")\n",
        "\n",
        "plt.figure(figsize=(8,6))\n",
        "sns.scatterplot(x=all_labels, y=all_preds, alpha=0.5)\n",
        "m, M = all_labels.min(), all_labels.max()\n",
        "plt.plot([m, M], [m, M], 'r--', label=\"Ideal\")\n",
        "plt.xlabel(\"Idade real (meses)\")\n",
        "plt.ylabel(\"Idade predita (meses)\")\n",
        "plt.title(\"Predição vs Real (Validação)\")\n",
        "plt.legend()\n",
        "plt.show()"
      ]
    },
    {
      "cell_type": "code",
      "execution_count": null,
      "id": "vCeP-nihm501",
      "metadata": {
        "colab": {
          "base_uri": "https://localhost:8080/",
          "height": 633
        },
        "id": "vCeP-nihm501",
        "outputId": "c5ae2282-e4ce-4cd8-e787-dd71207f0f32"
      },
      "outputs": [
        {
          "name": "stdout",
          "output_type": "stream",
          "text": [
            "== Regression Report ==\n",
            "MAE  (meses): 8.04  (~0.67 anos)\n",
            "RMSE (meses): 10.96  (~0.91 anos)\n",
            "R²           : 0.916\n"
          ]
        },
        {
          "data": {
            "image/png": "[encoded data removed]",
            "text/plain": [
              "<Figure size 800x600 with 1 Axes>"
            ]
          },
          "metadata": {},
          "output_type": "display_data"
        }
      ],
      "source": [
        "from sklearn.metrics import mean_absolute_error, mean_squared_error, r2_score\n",
        "import numpy as np\n",
        "import seaborn as sns\n",
        "import matplotlib.pyplot as plt\n",
        "\n",
        "model.load_state_dict(torch.load(\"/content/best_model_regression.pth\"))\n",
        "model.eval()\n",
        "\n",
        "all_labels, all_preds = [], []\n",
        "with torch.no_grad():\n",
        "    for imgs, labels in val_loader:\n",
        "        imgs = imgs.to(device)\n",
        "        labels = labels.numpy().astype(float)     # em MESES\n",
        "        outputs = model(imgs).cpu().numpy().flatten()\n",
        "        all_labels.extend(labels)\n",
        "        all_preds.extend(outputs)\n",
        "\n",
        "all_labels = np.array(all_labels)\n",
        "all_preds  = np.array(all_preds)\n",
        "\n",
        "mae_meses = mean_absolute_error(all_labels, all_preds)\n",
        "rmse_meses = np.sqrt(mean_squared_error(all_labels, all_preds))\n",
        "r2 = r2_score(all_labels, all_preds)\n",
        "\n",
        "print(\"== Regression Report ==\")\n",
        "print(f\"MAE  (meses): {mae_meses:.2f}  (~{mae_meses/12:.2f} anos)\")\n",
        "print(f\"RMSE (meses): {rmse_meses:.2f}  (~{rmse_meses/12:.2f} anos)\")\n",
        "print(f\"R²           : {r2:.3f}\")\n",
        "\n",
        "plt.figure(figsize=(8,6))\n",
        "sns.scatterplot(x=all_labels, y=all_preds, alpha=0.5)\n",
        "m, M = all_labels.min(), all_labels.max()\n",
        "plt.plot([m, M], [m, M], 'r--', label=\"Ideal\")\n",
        "plt.xlabel(\"Idade real (meses)\")\n",
        "plt.ylabel(\"Idade predita (meses)\")\n",
        "plt.title(\"Predição vs Real (Validação)\")\n",
        "plt.legend()\n",
        "plt.show()\n",
        "\n"
      ]
    },
    {
      "cell_type": "code",
      "execution_count": 47,
      "id": "m0_f1-Dh8p_T",
      "metadata": {
        "colab": {
          "base_uri": "https://localhost:8080/"
        },
        "id": "m0_f1-Dh8p_T",
        "outputId": "83c76fc0-b0a7-4dd5-f8e0-d1996ae8bcc2"
      },
      "outputs": [
        {
          "name": "stdout",
          "output_type": "stream",
          "text": [
            ">> Memória da GPU liberada!\n"
          ]
        }
      ],
      "source": [
        "import torch, gc\n",
        "\n",
        "def free_gpu_memory():\n",
        "    gc.collect()\n",
        "    torch.cuda.empty_cache()\n",
        "    torch.cuda.ipc_collect()\n",
        "    print(\">> Memória da GPU liberada!\")\n",
        "free_gpu_memory()"
      ]
    }
  ],
  "metadata": {
    "accelerator": "GPU",
    "colab": {
      "gpuType": "T4",
      "provenance": []
    },
    "kernelspec": {
      "display_name": "Python 3",
      "name": "python3"
    },
    "language_info": {
      "name": "python",
      "version": "3.10"
    }
  },
  "nbformat": 4,
  "nbformat_minor": 5
}
